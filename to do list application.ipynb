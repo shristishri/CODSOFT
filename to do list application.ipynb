{
 "cells": [
  {
   "cell_type": "code",
   "execution_count": 2,
   "id": "360f1b04",
   "metadata": {},
   "outputs": [],
   "source": [
    "import tkinter as tk\n",
    "from tkinter import messagebox\n",
    "\n",
    "class TodoApp:\n",
    "    def __init__(self, root):\n",
    "        self.root = root\n",
    "        self.root.title(\"To-Do List \")\n",
    "        \n",
    "        # Create the main frame\n",
    "        self.frame = tk.Frame(self.root)\n",
    "        self.frame.pack(pady=10)\n",
    "        \n",
    "        # Create the listbox\n",
    "        self.listbox = tk.Listbox(self.frame, width=50, height=10, selectmode=tk.SINGLE)\n",
    "        self.listbox.pack(side=tk.LEFT, padx=10)\n",
    "        \n",
    "        # Create a scrollbar\n",
    "        self.scrollbar = tk.Scrollbar(self.frame, orient=tk.VERTICAL, command=self.listbox.yview)\n",
    "        self.scrollbar.pack(side=tk.RIGHT, fill=tk.Y)\n",
    "        self.listbox.config(yscrollcommand=self.scrollbar.set)\n",
    "        \n",
    "        # Create the Entry widget for adding new tasks\n",
    "        self.entry = tk.Entry(self.root, width=50)\n",
    "        self.entry.pack(pady=10)\n",
    "        \n",
    "        # Create buttons\n",
    "        self.add_button = tk.Button(self.root, text=\"Add Task\", command=self.add_task)\n",
    "        self.add_button.pack(pady=5)\n",
    "        \n",
    "        self.delete_button = tk.Button(self.root, text=\"Delete Task\", command=self.delete_task)\n",
    "        self.delete_button.pack(pady=5)\n",
    "        \n",
    "        self.clear_button = tk.Button(self.root, text=\"Clear All Task\", command=self.clear_tasks)\n",
    "        self.clear_button.pack(pady=5)\n",
    "    \n",
    "    def add_task(self):\n",
    "        task = self.entry.get()\n",
    "        if task:\n",
    "            self.listbox.insert(tk.END, task)\n",
    "            self.entry.delete(0, tk.END)\n",
    "        else:\n",
    "            messagebox.showwarning(\"Warning\", \"You must enter a task.\")\n",
    "    \n",
    "    def delete_task(self):\n",
    "        try:\n",
    "            selected_task_index = self.listbox.curselection()[0]\n",
    "            self.listbox.delete(selected_task_index)\n",
    "        except IndexError:\n",
    "            messagebox.showwarning(\"Warning\", \"You must select a task to delete.\")\n",
    "    \n",
    "    def clear_tasks(self):\n",
    "        self.listbox.delete(0, tk.END)\n",
    "\n",
    "if __name__ == \"__main__\":\n",
    "    root = tk.Tk()\n",
    "    app = TodoApp(root)\n",
    "    root.mainloop()\n"
   ]
  },
  {
   "cell_type": "code",
   "execution_count": null,
   "id": "f8675056",
   "metadata": {},
   "outputs": [],
   "source": []
  }
 ],
 "metadata": {
  "kernelspec": {
   "display_name": "Python 3 (ipykernel)",
   "language": "python",
   "name": "python3"
  },
  "language_info": {
   "codemirror_mode": {
    "name": "ipython",
    "version": 3
   },
   "file_extension": ".py",
   "mimetype": "text/x-python",
   "name": "python",
   "nbconvert_exporter": "python",
   "pygments_lexer": "ipython3",
   "version": "3.11.4"
  }
 },
 "nbformat": 4,
 "nbformat_minor": 5
}
